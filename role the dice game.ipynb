{
 "cells": [
  {
   "cell_type": "code",
   "execution_count": 3,
   "id": "94441412",
   "metadata": {},
   "outputs": [
    {
     "name": "stdout",
     "output_type": "stream",
     "text": [
      "rolling the dice.....\n",
      "the value is :\n",
      "1\n",
      "roll the dice again?yes\n",
      "rolling the dice.....\n",
      "the value is :\n",
      "6\n",
      "roll the dice again?yes\n",
      "rolling the dice.....\n",
      "the value is :\n",
      "3\n",
      "roll the dice again?no\n",
      "thank you for playing!!!!\n"
     ]
    }
   ],
   "source": [
    "import random\n",
    "\n",
    "min_val = 1\n",
    "max_val = 6\n",
    "roll_again = 'yes'\n",
    "\n",
    "while roll_again == 'yes' or roll_again == 'y':\n",
    "    print('rolling the dice.....')\n",
    "    print('the value is :')\n",
    "    \n",
    "    print(random.randint(min_val, max_val))\n",
    "    \n",
    "    roll_again = input('roll the dice again?')\n",
    "    if roll_again == 'yes':\n",
    "        continue\n",
    "    else:\n",
    "        print('thank you for playing!!!!')"
   ]
  },
  {
   "cell_type": "code",
   "execution_count": null,
   "id": "fba8d028",
   "metadata": {},
   "outputs": [],
   "source": []
  }
 ],
 "metadata": {
  "kernelspec": {
   "display_name": "Python 3 (ipykernel)",
   "language": "python",
   "name": "python3"
  },
  "language_info": {
   "codemirror_mode": {
    "name": "ipython",
    "version": 3
   },
   "file_extension": ".py",
   "mimetype": "text/x-python",
   "name": "python",
   "nbconvert_exporter": "python",
   "pygments_lexer": "ipython3",
   "version": "3.8.10"
  }
 },
 "nbformat": 4,
 "nbformat_minor": 5
}
